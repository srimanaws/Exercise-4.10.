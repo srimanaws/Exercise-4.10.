{
 "cells": [
  {
   "cell_type": "code",
   "execution_count": null,
   "id": "2df8c7e4-601e-4e4c-a8ea-fe61ae1289b1",
   "metadata": {},
   "outputs": [
    {
     "name": "stdout",
     "output_type": "stream",
     "text": [
      "I'm thinking of a number between 1 and 1000. Can you guess it with the fewest attempts?\n"
     ]
    },
    {
     "name": "stdin",
     "output_type": "stream",
     "text": [
      "Your guess:  100\n"
     ]
    },
    {
     "name": "stdout",
     "output_type": "stream",
     "text": [
      "Oops, too low. Try guessing a higher number.\n"
     ]
    },
    {
     "name": "stdin",
     "output_type": "stream",
     "text": [
      "Your guess:  600\n"
     ]
    },
    {
     "name": "stdout",
     "output_type": "stream",
     "text": [
      "Oops, too high. Try guessing a lower number.\n"
     ]
    },
    {
     "name": "stdin",
     "output_type": "stream",
     "text": [
      "Your guess:  550\n"
     ]
    },
    {
     "name": "stdout",
     "output_type": "stream",
     "text": [
      "Oops, too high. Try guessing a lower number.\n"
     ]
    },
    {
     "name": "stdin",
     "output_type": "stream",
     "text": [
      "Your guess:  400\n"
     ]
    },
    {
     "name": "stdout",
     "output_type": "stream",
     "text": [
      "Oops, too high. Try guessing a lower number.\n"
     ]
    },
    {
     "name": "stdin",
     "output_type": "stream",
     "text": [
      "Your guess:  350\n"
     ]
    },
    {
     "name": "stdout",
     "output_type": "stream",
     "text": [
      "Oops, too low. Try guessing a higher number.\n"
     ]
    },
    {
     "name": "stdin",
     "output_type": "stream",
     "text": [
      "Your guess:  380\n"
     ]
    },
    {
     "name": "stdout",
     "output_type": "stream",
     "text": [
      "Oops, too high. Try guessing a lower number.\n"
     ]
    },
    {
     "name": "stdin",
     "output_type": "stream",
     "text": [
      "Your guess:  360\n"
     ]
    },
    {
     "name": "stdout",
     "output_type": "stream",
     "text": [
      "Oops, too low. Try guessing a higher number.\n"
     ]
    },
    {
     "name": "stdin",
     "output_type": "stream",
     "text": [
      "Your guess:  370\n"
     ]
    },
    {
     "name": "stdout",
     "output_type": "stream",
     "text": [
      "Oops, too high. Try guessing a lower number.\n"
     ]
    },
    {
     "name": "stdin",
     "output_type": "stream",
     "text": [
      "Your guess:  365\n"
     ]
    },
    {
     "name": "stdout",
     "output_type": "stream",
     "text": [
      "Oops, too low. Try guessing a higher number.\n"
     ]
    },
    {
     "name": "stdin",
     "output_type": "stream",
     "text": [
      "Your guess:  369\n"
     ]
    },
    {
     "name": "stdout",
     "output_type": "stream",
     "text": [
      "Oops, too high. Try guessing a lower number.\n"
     ]
    },
    {
     "name": "stdin",
     "output_type": "stream",
     "text": [
      "Your guess:  368\n"
     ]
    },
    {
     "name": "stdout",
     "output_type": "stream",
     "text": [
      "Oops, too high. Try guessing a lower number.\n"
     ]
    },
    {
     "name": "stdin",
     "output_type": "stream",
     "text": [
      "Your guess:  367\n"
     ]
    },
    {
     "name": "stdout",
     "output_type": "stream",
     "text": [
      "Congratulations! You guessed the number!\n"
     ]
    }
   ],
   "source": [
    "# Exercise: Guess the Number\n",
    "# Author: Sriman\n",
    "\n",
    "import random\n",
    "\n",
    "def guess_the_number():\n",
    "    while True:\n",
    "        # Pick a random number between 1 and 1000\n",
    "        number_to_guess = random.randint(1, 1000)\n",
    "        \n",
    "        print(\"I'm thinking of a number between 1 and 1000. Can you guess it with the fewest attempts?\")\n",
    "        \n",
    "        guess = None\n",
    "        \n",
    "        while guess != number_to_guess:\n",
    "            try:\n",
    "                # Get the user's guess\n",
    "                guess = int(input(\"Your guess: \"))\n",
    "                \n",
    "                # Provide feedback on the guess\n",
    "                if guess < number_to_guess:\n",
    "                    print(\"Oops, too low. Try guessing a higher number.\")\n",
    "                elif guess > number_to_guess:\n",
    "                    print(\"Oops, too high. Try guessing a lower number.\")\n",
    "                else:\n",
    "                    print(\"Congratulations! You guessed the number!\")\n",
    "            \n",
    "            except ValueError:\n",
    "                print(\"Please enter a valid number. Let’s try that again.\")\n",
    "        \n",
    "        # Ask if the user wants to play again\n",
    "        play_again = input(\"Want to play another round? (yes/no): \").strip().lower()\n",
    "        if play_again != 'yes':\n",
    "            print(\"Thanks for playing! Have a great day!\")\n",
    "            break\n",
    "\n",
    "# Start the game\n",
    "guess_the_number()\n"
   ]
  },
  {
   "cell_type": "code",
   "execution_count": null,
   "id": "3a867fbd-4d1b-4a68-a2a9-71ca856ca165",
   "metadata": {},
   "outputs": [],
   "source": []
  }
 ],
 "metadata": {
  "kernelspec": {
   "display_name": "Python 3 (ipykernel)",
   "language": "python",
   "name": "python3"
  },
  "language_info": {
   "codemirror_mode": {
    "name": "ipython",
    "version": 3
   },
   "file_extension": ".py",
   "mimetype": "text/x-python",
   "name": "python",
   "nbconvert_exporter": "python",
   "pygments_lexer": "ipython3",
   "version": "3.12.4"
  }
 },
 "nbformat": 4,
 "nbformat_minor": 5
}
